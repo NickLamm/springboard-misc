{
 "cells": [
  {
   "cell_type": "code",
   "execution_count": 1,
   "id": "d9f15df1",
   "metadata": {},
   "outputs": [],
   "source": [
    "import numpy as np\n",
    "import tensorflow as tf\n",
    "from tensorflow import keras\n",
    "from tensorflow.keras import layers\n",
    "from tensorflow.keras.datasets import mnist"
   ]
  },
  {
   "cell_type": "code",
   "execution_count": 2,
   "id": "14f4b996",
   "metadata": {},
   "outputs": [],
   "source": [
    "(X_train, y_train), (X_test, y_test) = mnist.load_data()\n",
    "X_train = np.expand_dims(X_train, -1)\n",
    "X_test = np.expand_dims(X_test, -1)\n",
    "y_train = keras.utils.to_categorical(y_train, 10)\n",
    "y_test = keras.utils.to_categorical(y_test, 10)"
   ]
  },
  {
   "cell_type": "code",
   "execution_count": 3,
   "id": "43efd706",
   "metadata": {},
   "outputs": [],
   "source": [
    "model = keras.Sequential(\n",
    "    [\n",
    "        keras.Input(shape=(28,28,1)),\n",
    "        layers.Conv2D(filters=32, kernel_size=3, activation='relu'),\n",
    "        layers.MaxPooling2D(pool_size=(2,2)),\n",
    "        layers.Conv2D(filters=64, kernel_size=3, activation='relu'),\n",
    "        layers.MaxPooling2D(pool_size=(2,2)),\n",
    "        layers.Flatten(),\n",
    "        layers.Dropout(.5),\n",
    "        layers.Dense(10, activation='softmax'),\n",
    "    ]\n",
    ")\n",
    "model.compile(loss='categorical_crossentropy', optimizer='adam', metrics=['accuracy'])"
   ]
  },
  {
   "cell_type": "code",
   "execution_count": 4,
   "id": "4b55260d",
   "metadata": {},
   "outputs": [
    {
     "name": "stdout",
     "output_type": "stream",
     "text": [
      "Epoch 1/15\n",
      "469/469 [==============================] - 4s 3ms/step - loss: 1.5477 - accuracy: 0.8310\n",
      "Epoch 2/15\n",
      "469/469 [==============================] - 1s 3ms/step - loss: 0.1936 - accuracy: 0.9422\n",
      "Epoch 3/15\n",
      "469/469 [==============================] - 1s 3ms/step - loss: 0.1428 - accuracy: 0.9585\n",
      "Epoch 4/15\n",
      "469/469 [==============================] - 2s 3ms/step - loss: 0.1155 - accuracy: 0.9654\n",
      "Epoch 5/15\n",
      "469/469 [==============================] - 2s 3ms/step - loss: 0.1042 - accuracy: 0.9680\n",
      "Epoch 6/15\n",
      "469/469 [==============================] - 2s 3ms/step - loss: 0.0949 - accuracy: 0.9702\n",
      "Epoch 7/15\n",
      "469/469 [==============================] - 2s 4ms/step - loss: 0.0844 - accuracy: 0.9740\n",
      "Epoch 8/15\n",
      "469/469 [==============================] - 2s 3ms/step - loss: 0.0823 - accuracy: 0.9744\n",
      "Epoch 9/15\n",
      "469/469 [==============================] - 1s 3ms/step - loss: 0.0760 - accuracy: 0.9771\n",
      "Epoch 10/15\n",
      "469/469 [==============================] - 2s 3ms/step - loss: 0.0704 - accuracy: 0.9780\n",
      "Epoch 11/15\n",
      "469/469 [==============================] - 1s 3ms/step - loss: 0.0660 - accuracy: 0.9799\n",
      "Epoch 12/15\n",
      "469/469 [==============================] - 1s 3ms/step - loss: 0.0646 - accuracy: 0.9805\n",
      "Epoch 13/15\n",
      "469/469 [==============================] - 1s 3ms/step - loss: 0.0621 - accuracy: 0.9806\n",
      "Epoch 14/15\n",
      "469/469 [==============================] - 2s 3ms/step - loss: 0.0607 - accuracy: 0.9810\n",
      "Epoch 15/15\n",
      "469/469 [==============================] - 1s 3ms/step - loss: 0.0570 - accuracy: 0.9821\n"
     ]
    },
    {
     "data": {
      "text/plain": [
       "<keras.callbacks.History at 0x17010e9bb50>"
      ]
     },
     "execution_count": 4,
     "metadata": {},
     "output_type": "execute_result"
    }
   ],
   "source": [
    "model.fit(X_train,y_train, batch_size=128, epochs=15)"
   ]
  },
  {
   "cell_type": "code",
   "execution_count": 5,
   "id": "974861aa",
   "metadata": {},
   "outputs": [
    {
     "name": "stdout",
     "output_type": "stream",
     "text": [
      "Test loss: 0.033657725900411606\n",
      "Test accuracy: 0.9886000156402588\n"
     ]
    }
   ],
   "source": [
    "score = model.evaluate(X_test, y_test, verbose=0)\n",
    "print(\"Test loss:\", score[0])\n",
    "print(\"Test accuracy:\", score[1])"
   ]
  },
  {
   "cell_type": "code",
   "execution_count": null,
   "id": "52056b56",
   "metadata": {},
   "outputs": [],
   "source": []
  }
 ],
 "metadata": {
  "kernelspec": {
   "display_name": "Python 3 (ipykernel)",
   "language": "python",
   "name": "python3"
  },
  "language_info": {
   "codemirror_mode": {
    "name": "ipython",
    "version": 3
   },
   "file_extension": ".py",
   "mimetype": "text/x-python",
   "name": "python",
   "nbconvert_exporter": "python",
   "pygments_lexer": "ipython3",
   "version": "3.9.7"
  }
 },
 "nbformat": 4,
 "nbformat_minor": 5
}
