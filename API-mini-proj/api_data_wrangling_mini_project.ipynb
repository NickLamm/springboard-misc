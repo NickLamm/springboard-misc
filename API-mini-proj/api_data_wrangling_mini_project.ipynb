{
 "cells": [
  {
   "cell_type": "markdown",
   "metadata": {},
   "source": [
    "This exercise will require you to pull some data from https://data.nasdaq.com/ (formerly Quandl API)."
   ]
  },
  {
   "cell_type": "markdown",
   "metadata": {},
   "source": [
    "As a first step, you will need to register a free account on the https://data.nasdaq.com/ website."
   ]
  },
  {
   "cell_type": "markdown",
   "metadata": {},
   "source": [
    "After you register, you will be provided with a unique API key, that you should store:\n",
    "\n",
    "*Note*: Use a `.env` file and put your key in there and `python-dotenv` to access it in this notebook. \n",
    "\n",
    "The code below uses a key that was used when generating this project but has since been deleted. Never submit your keys to source control. There is a `.env-example` file in this repository to illusrtate what you need. Copy that to a file called `.env` and use your own api key in that `.env` file. Make sure you also have a `.gitignore` file with a line for `.env` added to it. \n",
    "\n",
    "The standard Python gitignore is [here](https://github.com/github/gitignore/blob/master/Python.gitignore) you can just copy that. "
   ]
  },
  {
   "cell_type": "code",
   "execution_count": 1,
   "metadata": {},
   "outputs": [],
   "source": [
    "#!python -m pip install python-dotenv"
   ]
  },
  {
   "cell_type": "code",
   "execution_count": 2,
   "metadata": {},
   "outputs": [],
   "source": [
    "# get api key from your .env file\n",
    "import os\n",
    "from dotenv import load_dotenv\n",
    "\n",
    "load_dotenv()\n",
    "API_KEY = os.getenv('NASDAQ_API_KEY')"
   ]
  },
  {
   "cell_type": "markdown",
   "metadata": {},
   "source": [
    "Nasdaq Data has a large number of data sources, but, unfortunately, most of them require a Premium subscription. Still, there are also a good number of free datasets."
   ]
  },
  {
   "cell_type": "markdown",
   "metadata": {},
   "source": [
    "For this mini project, we will focus on equities data from the Frankfurt Stock Exhange (FSE), which is available for free. We'll try and analyze the stock prices of a company called Carl Zeiss Meditec, which manufactures tools for eye examinations, as well as medical lasers for laser eye surgery: https://www.zeiss.com/meditec/int/home.html. The company is listed under the stock ticker AFX_X."
   ]
  },
  {
   "cell_type": "markdown",
   "metadata": {},
   "source": [
    "You can find the detailed Nasdaq Data API instructions here: https://docs.data.nasdaq.com/docs/in-depth-usage"
   ]
  },
  {
   "cell_type": "markdown",
   "metadata": {},
   "source": [
    "While there is a dedicated Python package for connecting to the Nasdaq API, we would prefer that you use the *requests* package, which can be easily downloaded using *pip* or *conda*. You can find the documentation for the package here: http://docs.python-requests.org/en/master/ "
   ]
  },
  {
   "cell_type": "markdown",
   "metadata": {},
   "source": [
    "Finally, apart from the *requests* package, you are encouraged to not use any third party Python packages, such as *pandas*, and instead focus on what's available in the Python Standard Library (the *collections* module might come in handy: https://pymotw.com/3/collections/).\n",
    "Also, since you won't have access to DataFrames, you are encouraged to us Python's native data structures - preferably dictionaries, though some questions can also be answered using lists.\n",
    "You can read more on these data structures here: https://docs.python.org/3/tutorial/datastructures.html"
   ]
  },
  {
   "cell_type": "markdown",
   "metadata": {},
   "source": [
    "Keep in mind that the JSON responses you will be getting from the API map almost one-to-one to Python's dictionaries. Unfortunately, they can be very nested, so make sure you read up on indexing dictionaries in the documentation provided above."
   ]
  },
  {
   "cell_type": "code",
   "execution_count": 3,
   "metadata": {},
   "outputs": [],
   "source": [
    "# First, import the relevant modules\n",
    "import json\n",
    "import requests\n",
    "from statistics import median, mean\n",
    "import datetime"
   ]
  },
  {
   "cell_type": "markdown",
   "metadata": {},
   "source": [
    "Note: API's can change a bit with each version, for this exercise it is reccomended to use the nasdaq api at `https://data.nasdaq.com/api/v3/`. This is the same api as what used to be quandl so `https://www.quandl.com/api/v3/` should work too.\n",
    "\n",
    "Hint: We are looking for the `AFX_X` data on the `datasets/FSE/` dataset."
   ]
  },
  {
   "cell_type": "code",
   "execution_count": 4,
   "metadata": {},
   "outputs": [
    {
     "name": "stdout",
     "output_type": "stream",
     "text": [
      "{'dataset_data': {'limit': None, 'transform': None, 'column_index': None, 'column_names': ['Date', 'Open', 'High', 'Low', 'Close', 'Change', 'Traded Volume', 'Turnover', 'Last Price of the Day', 'Daily Traded Units', 'Daily Turnover'], 'start_date': '2021-12-10', 'end_date': '2020-12-01', 'frequency': 'daily', 'data': [], 'collapse': None, 'order': None}}\n"
     ]
    }
   ],
   "source": [
    "# Now, call the Nasdaq API and pull out a small sample of the data (only one day) to get a glimpse\n",
    "# into the JSON structure that will be returned\n",
    "yday = str(datetime.date.today() - datetime.timedelta(days=1))\n",
    "oneday = requests.get(f\"https://data.nasdaq.com/api/v3/datasets/FSE/AFX_X/data.json?start_date={yday}&api_key={API_KEY}\").json()\n",
    "print(oneday)"
   ]
  },
  {
   "cell_type": "code",
   "execution_count": 5,
   "metadata": {},
   "outputs": [
    {
     "name": "stdout",
     "output_type": "stream",
     "text": [
      "{\n",
      "  \"dataset_data\": {\n",
      "    \"limit\": null,\n",
      "    \"transform\": null,\n",
      "    \"column_index\": null,\n",
      "    \"column_names\": [\n",
      "      \"Date\",\n",
      "      \"Open\",\n",
      "      \"High\",\n",
      "      \"Low\",\n",
      "      \"Close\",\n",
      "      \"Change\",\n",
      "      \"Traded Volume\",\n",
      "      \"Turnover\",\n",
      "      \"Last Price of the Day\",\n",
      "      \"Daily Traded Units\",\n",
      "      \"Daily Turnover\"\n",
      "    ],\n",
      "    \"start_date\": \"2021-12-10\",\n",
      "    \"end_date\": \"2020-12-01\",\n",
      "    \"frequency\": \"daily\",\n",
      "    \"data\": [],\n",
      "    \"collapse\": null,\n",
      "    \"order\": null\n",
      "  }\n",
      "}\n"
     ]
    }
   ],
   "source": [
    "# Inspect the JSON structure of the object you created, and take note of how nested it is,\n",
    "# as well as the overall structure\n",
    "print(json.dumps(oneday, indent=2))"
   ]
  },
  {
   "cell_type": "markdown",
   "metadata": {},
   "source": [
    "These are your tasks for this mini project:\n",
    "\n",
    "1. Collect data from the Franfurt Stock Exchange, for the ticker AFX_X, for the whole year 2017 (keep in mind that the date format is YYYY-MM-DD).\n",
    "2. Convert the returned JSON object into a Python dictionary.\n",
    "3. Calculate what the highest and lowest opening prices were for the stock in this period.\n",
    "4. What was the largest change in any one day (based on High and Low price)?\n",
    "5. What was the largest change between any two days (based on Closing Price)?\n",
    "6. What was the average daily trading volume during this year?\n",
    "7. (Optional) What was the median trading volume during this year. (Note: you may need to implement your own function for calculating the median.)"
   ]
  },
  {
   "cell_type": "code",
   "execution_count": 6,
   "metadata": {},
   "outputs": [],
   "source": [
    "#steps 1 & 2\n",
    "r = requests.get(f\"https://data.nasdaq.com/api/v3/datasets/FSE/AFX_X/data.json?start_date=2017-01-01&api_key={API_KEY}\")\n",
    "data = r.json()['dataset_data']"
   ]
  },
  {
   "cell_type": "code",
   "execution_count": 7,
   "metadata": {},
   "outputs": [],
   "source": [
    "#extract relevant columns so we don't have to loop through every time\n",
    "[opens, highs, lows, closes, vols] = [[],[],[],[],[]]\n",
    "for day in data['data']:\n",
    "    opens.append(day[1])\n",
    "    highs.append(day[2])\n",
    "    lows.append(day[3])\n",
    "    closes.append(day[4])\n",
    "    vols.append(day[6])\n",
    "\n",
    "#opens and vols have None values, remove without removing 0s\n",
    "opens = [x for x in opens if type(x) == float]\n",
    "vols = [x for x in vols if type(x) == float]"
   ]
  },
  {
   "cell_type": "code",
   "execution_count": 8,
   "metadata": {},
   "outputs": [
    {
     "name": "stdout",
     "output_type": "stream",
     "text": [
      "Opening price range: 34.0 to 122.1\n"
     ]
    }
   ],
   "source": [
    "#step 3\n",
    "print(f'Opening price range: {min(opens)} to {max(opens)}')"
   ]
  },
  {
   "cell_type": "code",
   "execution_count": 9,
   "metadata": {},
   "outputs": [
    {
     "name": "stdout",
     "output_type": "stream",
     "text": [
      "Largest change on any one day: 14.1\n"
     ]
    }
   ],
   "source": [
    "#step 4\n",
    "dailychange = [round(hi - lo, 2) for hi, lo in zip(highs, lows)]\n",
    "print(f'Largest change on any one day: {max(dailychange)}')"
   ]
  },
  {
   "cell_type": "code",
   "execution_count": 10,
   "metadata": {},
   "outputs": [
    {
     "name": "stdout",
     "output_type": "stream",
     "text": [
      "Largest change between any two days: 8.95\n"
     ]
    }
   ],
   "source": [
    "#step 5\n",
    "twodaychange = []\n",
    "for i in range(1,len(closes)):\n",
    "    twodaychange.append(round(closes[i] - closes[i-1], 2))\n",
    "print(f'Largest change between any two days: {max(twodaychange)}')"
   ]
  },
  {
   "cell_type": "code",
   "execution_count": 11,
   "metadata": {},
   "outputs": [
    {
     "name": "stdout",
     "output_type": "stream",
     "text": [
      "Daily trading volume:\n",
      "Average: 117933.14423076923\n",
      "Median: 98767.0\n"
     ]
    }
   ],
   "source": [
    "#steps 6 & 7\n",
    "print(f'Daily trading volume:\\nAverage: {mean(vols)}\\nMedian: {median(vols)}')"
   ]
  },
  {
   "cell_type": "code",
   "execution_count": 12,
   "metadata": {},
   "outputs": [],
   "source": [
    "#and now that I've done it that way I'm gonna check my work with pandas\n",
    "import pandas as pd"
   ]
  },
  {
   "cell_type": "code",
   "execution_count": 13,
   "metadata": {},
   "outputs": [
    {
     "data": {
      "text/html": [
       "<div>\n",
       "<style scoped>\n",
       "    .dataframe tbody tr th:only-of-type {\n",
       "        vertical-align: middle;\n",
       "    }\n",
       "\n",
       "    .dataframe tbody tr th {\n",
       "        vertical-align: top;\n",
       "    }\n",
       "\n",
       "    .dataframe thead th {\n",
       "        text-align: right;\n",
       "    }\n",
       "</style>\n",
       "<table border=\"1\" class=\"dataframe\">\n",
       "  <thead>\n",
       "    <tr style=\"text-align: right;\">\n",
       "      <th></th>\n",
       "      <th>Date</th>\n",
       "      <th>Open</th>\n",
       "      <th>High</th>\n",
       "      <th>Low</th>\n",
       "      <th>Close</th>\n",
       "      <th>Change</th>\n",
       "      <th>Traded Volume</th>\n",
       "      <th>Turnover</th>\n",
       "      <th>Last Price of the Day</th>\n",
       "      <th>Daily Traded Units</th>\n",
       "      <th>Daily Turnover</th>\n",
       "    </tr>\n",
       "  </thead>\n",
       "  <tbody>\n",
       "    <tr>\n",
       "      <th>0</th>\n",
       "      <td>2020-12-01</td>\n",
       "      <td>112.2</td>\n",
       "      <td>112.2</td>\n",
       "      <td>111.5</td>\n",
       "      <td>112.0</td>\n",
       "      <td>NaN</td>\n",
       "      <td>51.0</td>\n",
       "      <td>5703.0</td>\n",
       "      <td>NaN</td>\n",
       "      <td>NaN</td>\n",
       "      <td>NaN</td>\n",
       "    </tr>\n",
       "    <tr>\n",
       "      <th>1</th>\n",
       "      <td>2020-11-30</td>\n",
       "      <td>111.0</td>\n",
       "      <td>113.6</td>\n",
       "      <td>111.0</td>\n",
       "      <td>112.1</td>\n",
       "      <td>NaN</td>\n",
       "      <td>315.0</td>\n",
       "      <td>35111.5</td>\n",
       "      <td>NaN</td>\n",
       "      <td>NaN</td>\n",
       "      <td>NaN</td>\n",
       "    </tr>\n",
       "    <tr>\n",
       "      <th>2</th>\n",
       "      <td>2020-11-27</td>\n",
       "      <td>111.0</td>\n",
       "      <td>111.5</td>\n",
       "      <td>109.5</td>\n",
       "      <td>111.2</td>\n",
       "      <td>NaN</td>\n",
       "      <td>155.0</td>\n",
       "      <td>17168.5</td>\n",
       "      <td>NaN</td>\n",
       "      <td>NaN</td>\n",
       "      <td>NaN</td>\n",
       "    </tr>\n",
       "    <tr>\n",
       "      <th>3</th>\n",
       "      <td>2020-11-26</td>\n",
       "      <td>111.3</td>\n",
       "      <td>112.0</td>\n",
       "      <td>110.5</td>\n",
       "      <td>111.6</td>\n",
       "      <td>NaN</td>\n",
       "      <td>254.0</td>\n",
       "      <td>28367.5</td>\n",
       "      <td>NaN</td>\n",
       "      <td>NaN</td>\n",
       "      <td>NaN</td>\n",
       "    </tr>\n",
       "    <tr>\n",
       "      <th>4</th>\n",
       "      <td>2020-11-25</td>\n",
       "      <td>111.4</td>\n",
       "      <td>111.4</td>\n",
       "      <td>110.1</td>\n",
       "      <td>110.1</td>\n",
       "      <td>NaN</td>\n",
       "      <td>294.0</td>\n",
       "      <td>32435.8</td>\n",
       "      <td>NaN</td>\n",
       "      <td>NaN</td>\n",
       "      <td>NaN</td>\n",
       "    </tr>\n",
       "  </tbody>\n",
       "</table>\n",
       "</div>"
      ],
      "text/plain": [
       "         Date   Open   High    Low  Close  Change  Traded Volume  Turnover  \\\n",
       "0  2020-12-01  112.2  112.2  111.5  112.0     NaN           51.0    5703.0   \n",
       "1  2020-11-30  111.0  113.6  111.0  112.1     NaN          315.0   35111.5   \n",
       "2  2020-11-27  111.0  111.5  109.5  111.2     NaN          155.0   17168.5   \n",
       "3  2020-11-26  111.3  112.0  110.5  111.6     NaN          254.0   28367.5   \n",
       "4  2020-11-25  111.4  111.4  110.1  110.1     NaN          294.0   32435.8   \n",
       "\n",
       "   Last Price of the Day  Daily Traded Units  Daily Turnover  \n",
       "0                    NaN                 NaN             NaN  \n",
       "1                    NaN                 NaN             NaN  \n",
       "2                    NaN                 NaN             NaN  \n",
       "3                    NaN                 NaN             NaN  \n",
       "4                    NaN                 NaN             NaN  "
      ]
     },
     "execution_count": 13,
     "metadata": {},
     "output_type": "execute_result"
    }
   ],
   "source": [
    "df = pd.DataFrame(data['data'])\n",
    "df.columns = data['column_names']\n",
    "df = df.apply(pd.to_numeric, errors='ignore')\n",
    "df.head()"
   ]
  },
  {
   "cell_type": "code",
   "execution_count": 14,
   "metadata": {},
   "outputs": [
    {
     "name": "stdout",
     "output_type": "stream",
     "text": [
      "Opening price range: 122.1 to 34.0\n"
     ]
    }
   ],
   "source": [
    "#step 3\n",
    "print(f\"Opening price range: {df['Open'].max()} to {df['Open'].min()}\")"
   ]
  },
  {
   "cell_type": "code",
   "execution_count": 15,
   "metadata": {},
   "outputs": [
    {
     "name": "stdout",
     "output_type": "stream",
     "text": [
      "Largest change on any one day: 14.099999999999994\n"
     ]
    }
   ],
   "source": [
    "#step 4\n",
    "df['Daily Change'] = df['High'] - df['Low']\n",
    "print(f\"Largest change on any one day: {df['Daily Change'].max()}\")"
   ]
  },
  {
   "cell_type": "code",
   "execution_count": 16,
   "metadata": {},
   "outputs": [
    {
     "name": "stdout",
     "output_type": "stream",
     "text": [
      "Largest change between any two days: 8.950000000000003\n"
     ]
    }
   ],
   "source": [
    "#step 5\n",
    "df['Day to Day Change'] = df['Close'].diff(1)\n",
    "print(f\"Largest change between any two days: {df['Day to Day Change'].max()}\")"
   ]
  },
  {
   "cell_type": "code",
   "execution_count": 17,
   "metadata": {},
   "outputs": [
    {
     "name": "stdout",
     "output_type": "stream",
     "text": [
      "Daily trading volume:\n",
      "Average: 117933.14423076923\n",
      "Median: 98767.0\n"
     ]
    }
   ],
   "source": [
    "#steps 6 & 7\n",
    "print(f\"Daily trading volume:\\nAverage: {df['Traded Volume'].dropna().mean()}\\nMedian: {df['Traded Volume'].dropna().median()}\")"
   ]
  },
  {
   "cell_type": "code",
   "execution_count": null,
   "metadata": {},
   "outputs": [],
   "source": []
  }
 ],
 "metadata": {
  "interpreter": {
   "hash": "7635eb1b9d0fe97add78a7368b6b431c09bb8ad5c42e437d64abdd99821c31ae"
  },
  "kernelspec": {
   "display_name": "Python 3",
   "language": "python",
   "name": "python3"
  },
  "language_info": {
   "codemirror_mode": {
    "name": "ipython",
    "version": 3
   },
   "file_extension": ".py",
   "mimetype": "text/x-python",
   "name": "python",
   "nbconvert_exporter": "python",
   "pygments_lexer": "ipython3",
   "version": "3.8.8"
  }
 },
 "nbformat": 4,
 "nbformat_minor": 4
}
